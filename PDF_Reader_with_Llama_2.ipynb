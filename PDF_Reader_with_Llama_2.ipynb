{
  "cells": [
    {
      "cell_type": "markdown",
      "metadata": {
        "id": "WpGZ3pDyZXub"
      },
      "source": [
        "**<h2>PDF Reader with Llama 2 Model</h2>**\n",
        "\n",
        "Necessary Libraries required for setup\n",
        "\n",
        "- LLama Index: For Reading the PDF and creating vector embeddings for performing similarity search\n",
        "\n",
        "- CTransformers - library for optimised approach for using LLM\n",
        "\n",
        "- Sentence Transformers - to create sentence embeddings for each sentence"
      ]
    },
    {
      "cell_type": "code",
      "execution_count": 13,
      "metadata": {
        "id": "cHpvfc2uSDzT"
      },
      "outputs": [],
      "source": [
        "!pip install -q langchain ctransformers bitsandbytes pypdf python-dotenv einops accelerate"
      ]
    },
    {
      "cell_type": "code",
      "execution_count": 14,
      "metadata": {
        "id": "XkOryf1YSq_U"
      },
      "outputs": [],
      "source": [
        "!pip install -q llama-index sentence_transformers"
      ]
    },
    {
      "cell_type": "code",
      "execution_count": 15,
      "metadata": {
        "id": "huxI7mgmTlxJ"
      },
      "outputs": [],
      "source": [
        "from llama_index import VectorStoreIndex,SimpleDirectoryReader,ServiceContext\n",
        "from llama_index.llms import HuggingFaceLLM\n",
        "from llama_index.prompts.prompts import SimpleInputPrompt"
      ]
    },
    {
      "cell_type": "code",
      "execution_count": 16,
      "metadata": {
        "id": "r8mWIo20UNaJ",
        "colab": {
          "base_uri": "https://localhost:8080/"
        },
        "outputId": "4c90895e-4b37-42df-d694-220cb59dc415"
      },
      "outputs": [
        {
          "output_type": "execute_result",
          "data": {
            "text/plain": [
              "[Document(id_='63dbb309-8a5b-4c5c-bb57-8456774498d3', embedding=None, metadata={'page_label': '1', 'file_name': 'Karnataka_Budget_Analysis_2023-24.pdf', 'file_path': '/content/Karnataka_Budget_Analysis_2023-24.pdf', 'file_type': 'application/pdf', 'file_size': 397902, 'creation_date': '2023-12-20', 'last_modified_date': '2023-12-20', 'last_accessed_date': '2023-12-20'}, excluded_embed_metadata_keys=['file_name', 'file_type', 'file_size', 'creation_date', 'last_modified_date', 'last_accessed_date'], excluded_llm_metadata_keys=['file_name', 'file_type', 'file_size', 'creation_date', 'last_modified_date', 'last_accessed_date'], relationships={}, hash='cdb26b4b8d2341334d5015fb53031558f7b45362c36bb224c02bf90092d3af44', text=' \\n \\nTushar Chakrabarty  \\ntushar@prsindia.org  Rutvik Upadhyaya  \\nrutvik @prsindia.org  July 13, 2023  \\nPRS Legislative Research  ◼ Institute for Policy Research Studies   \\n3rd Floor, Gandharva Mahavidyalaya ◼ 212, Deen Dayal Upadhyaya Marg  ◼ New Delhi – 110002 \\nTel: (011) 2323 4801 , 4343 4035 ◼ www.prsindia.org   \\n  Karnataka  Budget Analysis  \\n2023 -24 \\nThe Chief  Minister of Karnataka , Mr. Siddaramaiah presented the Budget for the state  for the financial year 2023-24 \\non July 7, 2023 . \\nBudget Highlights  \\n▪ The Gross State Domestic Product  (GSDP) of Karnataka  for 2023-24 (at current  prices ) is projected  to be \\nRs 25.7 lakh crore , amounting to a growth of 17.7% over the revised estimates of  2022 -23. \\n▪ Expenditure  (excluding debt repayment)  in 2023-24 is estimated to be Rs  3,05,306  crore,  an increase  of \\n12% over the revised estimate s of 2022-23.  In addition, debt of Rs 22,441  crore will be repaid by the state.  \\n▪ Receipts  (excluding borrowings)  for 2023 -24 are estimated to be Rs 2,38,660  crore, an increase  of 12% as \\ncompared to  the revised estimate of 2022-23.  In 2022-23, receipts  (excluding borrowings) are estimated to \\nexceed  the budget estimate  by Rs  22,563  crore  (increase  of 12%).  \\n▪ Revenue deficit  in 2023 -24 is estimated to be  0.5% of GSDP (Rs 12,523  crore ).  In 2022 -23, the  state’s  \\nrevenue deficit is estimated to be 0.3% of GSDP (Rs 5,996 crore), lower than the budget estimate of 0.7% of \\nGSDP (Rs 14,699 crore).  \\n▪ Fiscal deficit  for 2023 -24 is targeted at 2.6% of GSDP  (Rs 66,646  crore) .  In 2022 -23, as per the revised \\nestimate s, fiscal deficit is expected to be 2.8% of GSDP , similar to the budget estimate . \\nPolicy  Highlights  \\n▪ Revenue augmentation : The additional excise duty on Indian Made Liquor will be increased by 20% .  The \\nadditional excise duty on beer will be increased from 175% to 185%.   To imp rove tax administration, four \\nnew commercial tax divisions will be established . \\n▪ Five guarante es: The state government will implement five guarantees : (i) free bus travel for women under \\nShakti scheme , (ii) free electricity up to  200 units for domestic consumers  under Gruha Jyoti , (iii) Rs 2,000 \\nmonthly financial assistance to woman head of  family  under Gruha Lakshmi , (iv) 5kg additional foodgrains \\nto eligib le persons under Anna bhagya, and ( v) monthly unemployment allowance of Rs  3,000 for degree \\nholders and Rs 1 ,500 for diploma holders  under Yuvanidhi .   \\n▪ Metro connectivity : In the next three years, metro network will be expanded from 70 km to 176 km.  The \\nconstruction of the airport metro line will be expedited and it will be operationalised by 2026.   \\n▪ Gig workers : Life and accidental insurance of t wo lakh rupees each will be provided for full/part time \\ndelivery personnel of e -commerce companies .  The premium will be paid by the state government . \\nKarnataka’ s Economy  \\n▪ GSDP:  In 202 2-23, Karnataka ’s GSDP (at \\nconstant prices) is estimated to grow at 7.9% as \\ncompared to 11% in 2021 -22.  In 2022 -23, \\nIndia’s GDP is estimated to grow a t 7.2%.  \\n▪ Sectors:   In 2022 -23, the state’s services sector \\nis estimated to grow by 9.2% followed by \\nagriculture ( 5.5%) and manufacturing (5.1%).   \\nAgriculture , manufacturing, and services are \\nestimated to contribute 16%, 20%, and 64% to \\nKarnataka’s economy respectively (at current \\nprices)  in 2022 -23.  \\n▪ Per capita GSDP:   The per capita GSDP of \\nKarnataka  in 2022 -23 (at current prices) is \\nestimated at Rs 3,31,981  an increase of 13% over \\n2021 -22.  In comparison, the national per capita \\nGDP is estimated to be Rs 1,96,983  in 2022 -23. Figure 1: Growth in GSDP and sectors in \\nKarnataka  at constant prices  (2011 -12) \\n    \\nNote: These numbers are as per constant prices (2011 -12) \\nwhich implies that the growth rate is adjusted for inflation . \\nSources: MOSPI ; PRS.  17.0%\\n-3.5%\\n9.5%\\n5.9%14.5%\\n-3.7%\\n-6.0%\\n-3.5%10.1%\\n9.6%\\n10.3%\\n11.0%5.5%\\n5.1%\\n9.2%\\n7.9%\\n-15%-10%-5%0%5%10%15%20%\\nAgriculture Mfg Services GSDP\\n2019-20 2020-21\\n2021-22 2022-23', start_char_idx=None, end_char_idx=None, text_template='{metadata_str}\\n\\n{content}', metadata_template='{key}: {value}', metadata_seperator='\\n'),\n",
              " Document(id_='ac966344-5cf6-4061-b898-9fe706ae587c', embedding=None, metadata={'page_label': '2', 'file_name': 'Karnataka_Budget_Analysis_2023-24.pdf', 'file_path': '/content/Karnataka_Budget_Analysis_2023-24.pdf', 'file_type': 'application/pdf', 'file_size': 397902, 'creation_date': '2023-12-20', 'last_modified_date': '2023-12-20', 'last_accessed_date': '2023-12-20'}, excluded_embed_metadata_keys=['file_name', 'file_type', 'file_size', 'creation_date', 'last_modified_date', 'last_accessed_date'], excluded_llm_metadata_keys=['file_name', 'file_type', 'file_size', 'creation_date', 'last_modified_date', 'last_accessed_date'], relationships={}, hash='d3e96f4481e8c62371042a1462827523d7800b8e76f81ada1f64600edd8005f6', text=' \\n \\nKarnataka  Budget Analysis 2023 -24  PRS Legislative Research  \\n \\nJuly 13, 2023   - 2 - \\n Budget Estimates for 2023 -24 \\n▪ Total expenditure  (excluding debt repayment)  in 2023 -24 is targeted at Rs 3,05, 306 crore.  This is  an \\nincrease of 12% over the revised estimate of 2022 -23.  This expenditure is proposed to be met through \\nreceipts ( excluding  borrowings)  of Rs 2,38,660 crore  and net borrowings of Rs  63,377 crore .  Total  \\nreceipts for 2023 -24 (other than borrowings) are expected to register an increase of 12 % over the revised \\nestimate s of 2022 -23. \\n▪ Revenue deficit  in 2023 -24 is estimated to be 0. 5% of GSDP (Rs 12,523  crore) .  In 2022 -23, as per revised \\nestimates, revenue deficit is expected to be 0.3% of GSDP (Rs 5,996 crore), lower than the budget estimate \\nof 14,699 crore  (0.7% of GSDP) .  Fiscal deficit  for 2023 -24 is targeted at 2.6 % of GSDP (Rs 66,646 crore)  \\nwhich is within the limit of 3.5% of GSDP  set by the central government (of which  0.5% of GSDP becomes \\navailable on undertaking power sector reforms).   \\n▪ In 2022 -23, both revenue and fiscal deficit are expected to be lower than the budget estimate .  This could \\nhave been driven by receipts  (excluding borrowings) which are expected to be 12% higher than the budget \\nestimate while expenditure (excluding debt re payment) is estimated to be 9% higher .  \\nTable 1: Budget 2023 -24 - Key figures (in Rs crore ) \\nItems  2021-22 \\nActuals  2022 -23 \\nBE 2022 -23 \\nRE % change \\nfrom BE 22-\\n23 to RE 22-\\n23 2023 -24 \\nBE % change \\nfrom RE 22-\\n23 to BE 23-\\n24 \\nTotal Expenditure  2,75,483  2,65,720  2,89,653  9%  3,27,747  13% \\n(-) Repayment of debt  13,972  14,179  15,976  13%  22,441  40% \\nNet Expenditure (E)  2,61,512  2,51,541  2,73,677  9%  3,05,306  12% \\nTotal Receipts  2,76,535  2,61,977  2,79,540  7%  3,24,478  16% \\n(-) Borrowings  80,641  72,000  67,000  -7%  85,818  28% \\nNet Receipts (R)  1,95,895  1,89,977  2,12,540  12%  2,38,660  12% \\nFiscal Deficit (E -R) 65,617  61,564  61,137  -1%  66,646  9% \\nas % of GSDP  3.8%  2.8%  2.8%   2.6%   \\nRevenue Deficit  13,666  14,699  5,996  -59%  12,523  109%  \\nas % of GSDP  0.8%  0.7%  0.3%   0.5%   \\nPrimary Deficit  40,634  32,170  31,742  -1%  32,619  3% \\nas % of GSDP  2.4%  1.5%  1.5%   1.3%   \\nNote : BE is Budget Estimate s; RE is Revised Estimate s.  Fiscal deficit in 2021 -22 is lower than budget documents as transfer of Rs 420 \\ncrore to contingency fund has not been included in total expenditure.  \\nSources:  Overview of Budget , Annual Financial Statement, Karnataka Budget 2023 -24; PRS. \\nExpenditure in 2023 -24 \\n▪ Revenue expenditure  for 2023 -24 is proposed to be \\nRs 2,50,933  crore an increase of 15 % over the \\nrevised estimate of 2022 -23.  This includes the \\nexpenditure  on salaries, pensions, interest , grants, \\nand subsidies.   In 2022 -23, revenue expenditure is \\nestimated to be 7% higher than budget estimate.  \\n▪ Capital outlay  for 20 23-24 is proposed to be Rs \\n50,989 crore, a decrease of 3 % from  the revised \\nestimate of 2022 -23.  Capital outlay indicates the \\nexpenditure towards creation of assets .  In 2022 -23, \\ncapital outlay is estimated to be 21% higher than \\nbudget estimate .    \\nTabl e 2:  Expenditure budget 2023 -24 (in Rs c rore)  \\nItems  2021 -22 \\nActuals  2022 -23 \\nBE 2022 -23 \\nRE % change from \\nBE 2 2-23 to RE \\n22-23 2023-24 \\nBE % change from \\nRE 2 2-23 to BE \\n23-24 \\nRevenue  Expenditure   2,09,428   2,04,587   2,18,356  7%  2,50,933  15% \\nCapital Outlay   47,874   43,573  52,766 21%  50,989  -3% \\nLoans given by the state   4,209   3,382   2,555  -24%  3,385  32% \\nNet Expenditure   2,61,512   2,51,541   2,73,677  9%  3,05,306  12% \\n Sources: Annual Financial Statement , Karnataka  Budget 2023 -24; PRS.   Expenditure on Five Guarantees  in 2023 -24 \\nThe state government will implement five guarantees from \\n2023 -24 onwards.  The annual cost of these guarantees has \\nbeen estimated to be Rs 52,000 crore.  In  2023 -24, the state \\nhas budgeted to spend Rs 39,825 crore  (for July-March)  for \\nthese schemes .  The spending on these schemes account s \\nfor 16% of Karnata ka’s budgeted  revenue expenditure in \\n2023 -24.  Gruha Lakshmi, under which financial assistance \\nof Rs 2,000 per month will be given to the woman head of a \\nfamily, is expected to cost Rs 17,500 crore  in 2023 -24.  It \\naccoun ts for 44% of the budgeted expenditure on the five \\nschemes in 2023 -24.  Annabhagya  (for providing additional \\nfoodgrains) has been allocated Rs 10,275 crore .    \\n ', start_char_idx=None, end_char_idx=None, text_template='{metadata_str}\\n\\n{content}', metadata_template='{key}: {value}', metadata_seperator='\\n'),\n",
              " Document(id_='d6941b7f-eb8a-4cb8-88dd-ab0cfadb6f3e', embedding=None, metadata={'page_label': '3', 'file_name': 'Karnataka_Budget_Analysis_2023-24.pdf', 'file_path': '/content/Karnataka_Budget_Analysis_2023-24.pdf', 'file_type': 'application/pdf', 'file_size': 397902, 'creation_date': '2023-12-20', 'last_modified_date': '2023-12-20', 'last_accessed_date': '2023-12-20'}, excluded_embed_metadata_keys=['file_name', 'file_type', 'file_size', 'creation_date', 'last_modified_date', 'last_accessed_date'], excluded_llm_metadata_keys=['file_name', 'file_type', 'file_size', 'creation_date', 'last_modified_date', 'last_accessed_date'], relationships={}, hash='8315ed1adaa145fa904bccec4f02d30f34f3a5c56ef32c708c072de778283891', text=' \\n \\nKarnataka  Budget Analysis 2023 -24  PRS Legislative Research  \\n \\nJuly 13, 2023   - 3 - \\n Committed expenditure:  Committed expenditure of a state typically includes expenditure on payment of \\nsalaries, pensions, and interest.   A larger proportion of budget allocated for committed expenditure items limits \\nthe state’s flexibility to decide on other expenditure prioriti es such as capital outlay.  In 2023 -24, Karnataka  is \\nestimated to spend 14% of its revenue receipts on interest payments , and 11% of revenue receipts on pension . \\nTable 3: Committed Expenditure in  2023 -24 (in Rs crore)  \\nItems  2021 -22 \\nActuals  2022 -23 \\nBE 2022 -23 \\nRE % change \\nfrom BE 22-23 \\nto RE 22-23 2023 -24 \\nBE % change \\nfrom RE 22-23 \\nto BE 23-24 \\nPensions   20,666   24,016   24,078  0%  25,116  4% \\nInterest Payment   24,984   29,395   29,395  0%  34,027  16% \\nNote: Data on salaries was not available.  \\nSources: FRBM Statement , Annual Financial Statement,  Karnataka  Budget 2023 -24; PRS.  \\nSector -wise expenditure: The sector s listed below account for 64% of the total expenditure on sectors by the \\nstate in 2023 -24.  A comparison of Karnataka ’s expenditure on key sectors with that by  other state s is shown  in \\nAnnexure  1. \\nTable 4: Sector -wise expenditure under  Karnataka  Budget 2023 -24 (in Rs crore)  \\nSector s 2021 -22 \\nActuals  2022 -23 \\nBE 2022 -23 \\nRE 2023 -24 \\nBE % change \\nfrom RE 22-23 \\nto  \\nBE 2 3-24 Budget Provisions (202 3-24) \\nSocial Welfare and \\nNutrition  17,790  15,528  17,487  34,834  99% ▪ Rs 17,500 crore has been allocated for Gruha \\nLakshmi scheme.  \\nEducation, Sports, \\nArts, and Culture  30,774  32,018  33,494  33,271  -1% ▪ Rs 13,530 crore has been allocated for block grants  \\nfor various districts . \\n▪ Rs 1,938 crore has been allocated for Sarva \\nShiksha  Abhiyana . \\nEnergy  17,645  12,226  14,829  22,662  53% ▪ Rs 13,143 crore has been allocated for subsidies . \\n▪ Rs 9,000 crore has been allocated for Gruha Jyothi \\nscheme.  \\nAgriculture and \\nAllied Activities  20,769  17,039  16,351  22,158  36% ▪ Rs 10,275 crore has been allocated for \\nAnnabhagya scheme.  \\nIrrigation and Flood \\nControl  21,054  20,652  22,933  19,057  -17% ▪ Rs 15,248 crore has been allocated for capital \\noutlay on medium irrigation.  \\nTransport  14,748  12,105  18,868  15,023  -20% ▪ Rs 8,208 crore has been allocated for capital outlay \\non roads and bridges.  \\n▪ Rs 2,800 crore has been allocated for Shakthi \\nscheme.  \\nHealth and Family \\nWelfare  15,345  14,368  13,576  14,761  9% ▪ Rs 2,166 crore has been allocated for block grants . \\n▪ Rs 1,586 crore has been allocated for p sychiatric \\nclinics, hospitals, and b lood banks . \\nWelfare of SC, ST, \\nOBC, and Minorities  9,526  9,180  11,100  10,972  -1% ▪ Rs 4,300 crore has been allocated for welfare of \\nscheduled castes.  \\n▪ Rs 1,520 crore has been allocated for welfare of \\nscheduled tribes.  \\nPolice  6,801  8,007  8,946  10,011  12% ▪ Rs 6,568 crore has been allocated for p olice \\nestablishment in existing districts .  \\nRural Development  8,427  9,295  11,491  9,494  -17% ▪ Rs 2,117 crore has been allocated for 15th Finance \\nCommission grants to gram panchayats . \\n▪ Rs 1,700 crore has been allocated for maintenance \\ngrants to taluka panchayats . \\n% of total \\nexpenditure on all \\nsectors  63% 61% 62% 64%   \\nSource: Annual Financial Statement, Karnataka Budget  2023 -24; PRS.  \\n \\n ', start_char_idx=None, end_char_idx=None, text_template='{metadata_str}\\n\\n{content}', metadata_template='{key}: {value}', metadata_seperator='\\n'),\n",
              " Document(id_='3456db68-1484-4c78-8de8-6db3a745c883', embedding=None, metadata={'page_label': '4', 'file_name': 'Karnataka_Budget_Analysis_2023-24.pdf', 'file_path': '/content/Karnataka_Budget_Analysis_2023-24.pdf', 'file_type': 'application/pdf', 'file_size': 397902, 'creation_date': '2023-12-20', 'last_modified_date': '2023-12-20', 'last_accessed_date': '2023-12-20'}, excluded_embed_metadata_keys=['file_name', 'file_type', 'file_size', 'creation_date', 'last_modified_date', 'last_accessed_date'], excluded_llm_metadata_keys=['file_name', 'file_type', 'file_size', 'creation_date', 'last_modified_date', 'last_accessed_date'], relationships={}, hash='36787d4c2cb96c364152ee8697db59ecc78d266aace556b47d0bee7d429e2bd7', text=\" \\n \\nKarnataka  Budget Analysis 2023 -24  PRS Legislative Research  \\n \\nJuly 13, 2023   - 4 - \\n Receipts in 2023 -24 \\n▪ Total revenue receipts  for 2023 -24 are estimated to be Rs 2,38,410  crore , an increase of 12 % over the \\nrevised estimate of 2022 -23.  Of this, Rs 1,85,803  crore  (78%) will be raised by the state through its own \\nresources , and Rs 52,607 crore ( 22%) will come  from the centre .  Resources from the centre will be  in the \\nform of state’s share in central taxes  (16% of revenue receipts)  and grants  (6% of revenue receipts).  \\n▪ Devolution:   In 2023 -24, state’s share in central taxes is estimated at Rs 37,252  crore, an increase of 8%  \\nover the revised estimate of 2022 -23.   \\n▪ Grants from the centre  in 2023 -24 is estimated at Rs 15, 355 crore, a decrease of 33% from  the revised \\nestimates for 2022 -23.  This could be due to decrease in GST compensation grants which are estimated to \\ndecrease  by 78% in 2023 -24 as compared to the revised estimate of 2022 -23.  In 2022 -23, as per revised \\nestimate, GST compensation grants are pegged at Rs 10,548 crore as compared to Rs 5,000 crore  at the \\nbudget estimate stage .  However, if GST compensation grants were  to be excluded, grants from the Centre  \\nto the state are expected  to decrease 28% at the revised estimate stage as compared to the budget estimate .  \\nUnder Jal Jeevan Mission, Karnataka will receive  only Rs  10 crore in 2022 -23 as per revised estimate , \\nagain st the budget estimate of Rs 1,500 crore.        \\n▪ State’s own tax revenue:   Karnataka’ s total own tax revenue  is estimated to be Rs 1,73,303  crore in 2023 -\\n24, an increase of 20% over the revised estimate of 2022 -23.  Own tax revenue as a percentage  of GSDP is \\nestimated at 6.8 % in 2023 -24.  For 2022 -23, the state had estimated this ratio at 5.8 %, however, as per \\nrevised estimates, it is expected to be higher  at 6.6%.  In 2021 -22, own tax to GSDP ratio was 7%.  \\nTable 5: Break -up of the state government ’s receipts ( in Rs crore)  \\nSources  2021-22 \\nActuals  2022 -23 \\nBE 2022 -23 \\nRE % change \\nfrom BE 22-23 \\nto RE 2 2-23 2023 -24 \\nBE % change \\nfrom RE 22-23 \\nto BE 2 3-24 \\nState's Own Tax   1,20,739   1,26,883   1,43,883  13%  1,73,303  20% \\nState's Own Non -Tax  11,777   10,941   10,941  0%  12,500  14% \\nShare in Central Taxes   33,284   29,783   34,596  16%  37,252  8% \\nGrants -in-aid from Centre   29,962   22,281   22,940  3%  15,355  -33% \\nRevenue Receipts  1,95,762  1,89,888  2,12,360  12%  2,38,410  12% \\nNon-debt Capital Receipts   133   89   180  101%   250  39% \\nNet Receipts   1,95,895   1,89,977   2,12,540  12%  2,38,660  12% \\nNote: BE is Budget Estimates; RE is Revised Estimates.   State’s own tax revenue has been adjusted to include GST compensation grants as \\ngrants from the Centre.    \\nSources: Annual Financial Statement, Karnataka  Budget 2023 -24; PRS.  \\n▪ In 2023 -24, State GST (SGST) is estimated to be the largest source of own tax revenue , contributing to 44% \\nof the total.   SGST revenue is estimated to increase by 20% in 2023 -24 over the revised estimate of 2022 -\\n23.  In 2022 -23, SGST revenue is expected to be 19% higher at the revised estimate stage as compared to \\nthe budget estimat e. \\n▪ State excise comprises 21% of Karnataka’s own tax revenue in 2023 -24.  It is estimated to increase by 13% \\nin 2023 -24, as compared to the revised estimate of 2022 -23. \\n▪ Revenue from stamps duty and registration fees, sales tax/VAT, and taxes on vehicles is estimated to \\nincrease by 47%, 13%, and 28% respectively in 2023 -24 over the revised estimate s of 2022 -23.   \\nTable 6:  Major sources of s tate’s own -tax revenue (in Rs crore)  \\nTaxes  2021 -22 \\nActuals  2022 -23 \\nBE 2022 -23 \\nRE % change \\nfrom BE 22 -23 \\nto RE 22 -23 2023 -24 \\nBE % change \\nfrom RE 22 -23 \\nto BE 23 -24 \\nState GST   49,929   53,220   63,220  19%  76,150  20% \\nState Excise   26,378   29,000   32,000  10%  36,000  13% \\nStamps Duty and Registration Fees   14,020   15,000   17,000  13%  25,000  47% \\nSales Tax/ VAT   19,274   17,640   18,640  6%  21,100  13% \\nTaxes on Vehicles   6,915   8,007   9,007  12%  11,500  28% \\nTaxes and Duties on Electricity   2,724   2,823   2,823  0%  2,049  -27% \\nLand Revenue   181   43   43  0%  104  143%  \\nGST Compensation Grants   8,976   5,000   10,548  111%   2,350  -78% \\nGST Compensation Loans   18,109  - - - - - \\nSources: Annual Financial Statement, Detailed Estimates of Revenue and other Receipts , Karnataka  Budget 2023 -24; PRS.  \\n \\n \\n \", start_char_idx=None, end_char_idx=None, text_template='{metadata_str}\\n\\n{content}', metadata_template='{key}: {value}', metadata_seperator='\\n'),\n",
              " Document(id_='39469761-2722-4263-88f1-94b60207a8fe', embedding=None, metadata={'page_label': '5', 'file_name': 'Karnataka_Budget_Analysis_2023-24.pdf', 'file_path': '/content/Karnataka_Budget_Analysis_2023-24.pdf', 'file_type': 'application/pdf', 'file_size': 397902, 'creation_date': '2023-12-20', 'last_modified_date': '2023-12-20', 'last_accessed_date': '2023-12-20'}, excluded_embed_metadata_keys=['file_name', 'file_type', 'file_size', 'creation_date', 'last_modified_date', 'last_accessed_date'], excluded_llm_metadata_keys=['file_name', 'file_type', 'file_size', 'creation_date', 'last_modified_date', 'last_accessed_date'], relationships={}, hash='61d5c20b3f6737da8bfe093da4a34372232d35b4960d711c4b098406bf208fd9', text=' \\n \\nKarnataka  Budget Analysis 2023 -24  PRS Legislative Research  \\n \\nJuly 13, 2023   - 5 - \\n Deficits, Debt , and FRBM Targets for 2023 -24 \\nThe Karnataka  Fiscal Responsibility Act (KFRA) , 2002 provides  annual targets to progressively reduce  the \\noutstanding liabilities , revenue deficit and fiscal deficit of the state government.  \\nRevenue deficit :  It is the difference of  revenue expenditure and revenue receipts.  A revenue deficit implies \\nthat the government needs to borrow to finance those expenses which do not increase its  assets  or reduces its \\nliabilities .  The KFRA necessitated  the state government to eliminate revenue deficit by 2006.   Since 2020 -21, \\nKarnataka has consistently reported revenue deficit.  The budget estimates a revenue deficit  of Rs 12,523  crore  \\n(or 0.5% of the GSDP ) in 2023 -24.  In 2022 -23, the revenue deficit is expected to be  Rs 5,996  crore ( 0.3% of \\nGSDP)  as per revised estimates , lower than the budgeted revenue deficit of Rs 14,699 crore (0.7% of GSDP).  \\nFiscal deficit :  It is the excess of total expenditure over \\ntotal receipts.  This gap is filled by borrowings by the \\ngovernment and  leads to an increase in tot al liabilities .  \\nIn 2023 -24, the fiscal deficit is estimated to be 2.6% of \\nGSDP .  For 2023 -24, the central government has \\npermitted fiscal deficit of up to 3.5% of GSDP to \\nstates, of which 0.5% of GSDP will be available only \\nupon carrying out certain power sector reforms.    As \\nper the revised estimates, in 2022-23, the fiscal deficit \\nof the state is exp ected to be 2.8 % of GSDP, which is \\nmarginally lower than the budget estimate of 2.82 % of \\nGSDP .   \\nOutstanding liabilities: Outstanding liabilities are the \\naccumulation of total borrowings at the end of a \\nfinancial year .  It also includes any liabilities on the \\npublic account .  At the end of 2023 -24, outstanding liabilities of the state are estimated to be 23% of GSDP.   \\nOutstanding liabilities are estimated to decrease from a high of 27.5% of GSDP in 2021 -22. \\nFigure 2: Revenue and Fiscal Balance (% of \\nGSDP)  \\n \\nNote: BE is Budget Estimates; RE is Revised Estimates.  \\nSources: Karnataka Budget Documents of various years ; PRS.   Figure 3: Outstanding liabilities (% of GSDP)  \\n \\nNote: Outstanding liabilties include GST compensation loans.  \\nSources : Karnataka Budget Documents of various years; PRS.  \\nOutstanding Government Guarantees:   Outstanding liabilities of states do not include a few other liabilities \\nthat are contingent in nature, which states may have to honour in certain cases.   State governments guarantee the \\nborrowings of State Public Sector Enterprises (SPSEs) from financia l institutions.   Karnataka  has outstanding \\nguarantees of Rs 33,192 crore (1.9% of GSDP)  as on March 31, 2022 . \\nDISCLAIMER: This document is being furnished to you for your information. You may choose to reproduce or redistribute this re port for \\nnon-commerci al purposes in part or in full to any other person with due acknowledgement of PRS Legislative Research (“PRS”). The \\nopinions expressed herein are entirely those of the author(s). PRS makes every effort to use reliable and comprehensive infor mation, but \\nPRS does not represent that the contents of the report are accurate or complete. PRS is an independent, not -for-profit group. This document \\nhas been prepared without regard to the objectives or opinions of those who may receive it.  \\n \\n \\n 0.1%\\n-0.4%-0.8%-0.3% -0.5%\\n-2.3%\\n-3.0%\\n-3.8%-2.8% -2.6%\\n-5%-3%-1%1%3%5%\\n2019-20\\n2020-21\\n2021-22\\n2022-23 RE\\n2023-24 BE\\nRevenue Balance Fiscal Balance19.9%22.4%27.5%\\n24.2%23.0%\\n0%10%20%30%40%\\n2019-20 2020-21 2021-22 2022-23\\nRE2023-24\\nBEOff-budget Borrowings  \\nOff-budget borrowings refer to borrowings  made by government -\\nowned entities  such as special purpose vehicles and public sector \\nenterprises , debt servicing of which is done through budgetary \\nresources.   This causes debt and deficit numbers to be \\nunderstated.   As on March 31, 2022, Karnataka’s outstanding off \\nbudget borrowings stood at Rs 16, 682 crore.   Krishna Bhagya \\nJala Nigam Ltd had the highest off -budget borrowings of Rs 6,252 \\ncrore followed by Karnataka Neeravari Nigama Ltd  (Rs 3,673 \\ncrore), and Cauvery Neeravari Nigama Limited  (Rs 2,768 crore).   \\nThe 15th Finance Commission recommended against resorting to \\noff-budget borrowi ngs.  It noted that such practices are against the  \\nnorms of fiscal transparency and adversely impact fiscal \\nsustainability. It observed that these obligations must be cleared in \\na timely  manner  by mobilising additional resources . ', start_char_idx=None, end_char_idx=None, text_template='{metadata_str}\\n\\n{content}', metadata_template='{key}: {value}', metadata_seperator='\\n'),\n",
              " Document(id_='91133c34-610f-45df-9996-e55cd8585204', embedding=None, metadata={'page_label': '6', 'file_name': 'Karnataka_Budget_Analysis_2023-24.pdf', 'file_path': '/content/Karnataka_Budget_Analysis_2023-24.pdf', 'file_type': 'application/pdf', 'file_size': 397902, 'creation_date': '2023-12-20', 'last_modified_date': '2023-12-20', 'last_accessed_date': '2023-12-20'}, excluded_embed_metadata_keys=['file_name', 'file_type', 'file_size', 'creation_date', 'last_modified_date', 'last_accessed_date'], excluded_llm_metadata_keys=['file_name', 'file_type', 'file_size', 'creation_date', 'last_modified_date', 'last_accessed_date'], relationships={}, hash='a6d5ee5019f455f5b991580da2f1f2a2832a5c7dec7c96b19a00d37ca869158b', text=' \\n \\nKarnataka  Budget Analysis 2023 -24  PRS Legislative Research  \\n \\nJuly 13, 2023   - 6 - \\n Annexure  1:  Comparison of states’ expenditure on key sectors  \\nThe graphs below compare Karnataka ’s expenditure in 2023 -24 on six key sectors as a proportion of its total \\nexpenditure on all sectors.  The average for a sector indicates the average expenditure in that sector by 31 states \\n(including Karnataka ) as per their budget estimates of 2022 -23.1 \\n▪ Education: Karnataka has allocat ed 11 % of its expenditure on education  in 2023 -24.  This is lower than the \\naverage allocation for education by states  in 2022 -23 (14.8%).  \\n▪ Health :  Karnataka  has allocated 4.9% of its total expenditure  towards  health, which is less than the \\naverage allocation for health by states (6.3%) . \\n▪ Agriculture :  Karnataka  has allocated 7.3% of its expenditure on agriculture .  This is higher  than the \\naverage allocation for agriculture  by states ( 5.8%). \\n▪ Energy:  Karnataka  has allocated 7.5% of its tota l expenditure  towards  energy , which is higher than the \\naverage allocation  for energy by states (4 .8%). \\n▪ Irrigation: Karnataka  has allocated 6.3% of its total expenditure  towards  irrigation , which is higher than \\nthe average allocation for irrigation by states ( 3.5%).  \\n▪ Roads and bridges : Karnataka  has allocated 3.4% of its total expenditure towards  roads and bridges , \\nwhich is  lower than  the average allocation by states  (4.5%).   \\n   \\n   \\nNote: 2021-22, 2022 -23 (BE), 2022 -23 (RE), and 2023 -24 (BE) figures are for Karnataka . \\nSource s: Annual Financial Statement, Karnataka  Budget 2023 -24; various state budgets; PR S. \\n \\n. \\n 12.0%12.9% 12.4%11.0%14.8%\\n0%5%10%15%20%\\n2021-22\\n2022-23 (BE)\\n2022-23 (RE)\\n2023-24 (BE)\\nAverage of all states\\n(2022-23 BE)Spending on education as a \\n% of total expenditure\\n6.0% 5.8%5.0% 4.9%6.3%\\n0%2%4%6%8%\\n2021-22\\n2022-23 (BE)\\n2022-23 (RE)\\n2023-24 (BE)\\nAverage of all states\\n(2022-23 BE)Spending on health as a % of \\ntotal expenditure\\n8.1%\\n6.9%6.0%7.3%\\n5.8%\\n0%2%4%6%8%10%\\n2021-22\\n2022-23 (BE)\\n2022-23 (RE)\\n2023-24 (BE)\\nAverage of all states\\n(2022-23 BE)Spending on agriculture as a % \\nof total expenditure\\n6.9%\\n4.9%5.5%7.5%\\n4.8%\\n0%1%2%3%4%5%6%7%8%\\n2021-22\\n2022-23 (BE)\\n2022-23 (RE)\\n2023-24 (BE)\\nAverage of all states\\n(2022-23 BE)Spending on energy as a % \\nof total budget\\n8.2% 8.3% 8.5%\\n6.3%\\n3.5%\\n0%1%2%3%4%5%6%7%8%9%\\n2021-22\\n2022-23 (BE)\\n2022-23 (RE)\\n2023-24 (BE)\\nAverage of all states\\n(2022-23 BE)Spending on irrigation as a % \\nof total budget\\n4.7%4.1%5.1%\\n3.4%4.5%\\n0%2%4%6%\\n2021-22\\n2022-23 (BE)\\n2022-23 (RE)\\n2023-24 (BE)\\nAverage of all states\\n(2022-23 BE)Spending on roads and \\nbridges as a % of total \\nexpenditure', start_char_idx=None, end_char_idx=None, text_template='{metadata_str}\\n\\n{content}', metadata_template='{key}: {value}', metadata_seperator='\\n'),\n",
              " Document(id_='fc4a5e54-9c76-4238-998e-c98a7e8d7df7', embedding=None, metadata={'page_label': '7', 'file_name': 'Karnataka_Budget_Analysis_2023-24.pdf', 'file_path': '/content/Karnataka_Budget_Analysis_2023-24.pdf', 'file_type': 'application/pdf', 'file_size': 397902, 'creation_date': '2023-12-20', 'last_modified_date': '2023-12-20', 'last_accessed_date': '2023-12-20'}, excluded_embed_metadata_keys=['file_name', 'file_type', 'file_size', 'creation_date', 'last_modified_date', 'last_accessed_date'], excluded_llm_metadata_keys=['file_name', 'file_type', 'file_size', 'creation_date', 'last_modified_date', 'last_accessed_date'], relationships={}, hash='8e3875081b8628af0a68764039b3d96a85067402c89646dc7318421a2322672d', text=\" \\n \\nKarnataka  Budget Analysis 2023 -24  PRS Legislative Research  \\n \\nJuly 13, 2023   - 7 - \\n Annexure 2:  Comparison of 2021 -22 Budget Estimates and Actuals  \\n \\nThe following tables compare the actuals of  2021 -22 with budget estimates for that year . \\nTable 7: Overview of Receipts and Expenditure (in Rs crore)  \\nParticular  2021-22 BE 2021-22 Actuals  % change from BE to Actuals  \\nNet Receipts (1+2)  1,72,402  1,95,895  14% \\n1.  Revenue Receipts (a+b+c+d)  1,72,271  1,95,762  14% \\na.  Own Tax Revenue  1,11,494  1,20,739  8% \\nb.  Own Non -Tax Revenue  8,258  11,777  43% \\nc.  Share in central taxes  24,273  33,284  37% \\nd.  Grants -in-aid from the Centre  28,246  29,962  6% \\nOf which GST compensation grants  12,708  8,976  -29% \\n2.  Non-Debt Capital Receipts  131 133 1% \\n3.  Borrowings  71,332  80,641  13% \\nOf which GST compensation loan  - 18,109  - \\nNet Expenditure (4+5+6)  2,31,642  2,61,512  13% \\n4.  Revenue Expenditure  1,87,405  2,09,428  12% \\n5.  Capital Outlay  41,358  47,874  16% \\n6.  Loans and Advances  2,879  4,209  46% \\n7.  Debt Repayment  14,565  13,972  -4% \\nRevenue Deficit  15,134  13,666  -10% \\nRevenue Deficit  (as % of GSDP)  0.9%  0.8%  - \\nFiscal Deficit  59,240  65,617  11% \\nFiscal Deficit (as % of GSDP)  3.5%  3.8%  - \\nNote: BE: Budget Estimates.  \\nSources: Karnataka  Budget Documents of various years; PRS.  \\nTable 8: Key  Components of State's Own Tax Revenue  (in Rs crore)  \\nTax Head  2021-22 BE 2021-22 Actuals  % change from BE to \\nActuals  \\nLand Revenue                                   271  181 -33% \\nTaxes on Vehicles                                7,515  6,915  -8% \\nTaxes and Duties on Electricity                                2,708  2,724  1% \\nState Excise                             24,580  26,378  7% \\nState GST                             45,947  49,929  9% \\nStamps Duty and Registration Fees                             12,655  14,020  11% \\nSales Tax/ VAT                             16,791  19,274  15% \\nSources: Karnataka  Budget Documents of various years; PRS.  \\nTable 9: Allocation towards Key Sectors  (in Rs crore)  \\nSector  2021-22 BE 2021-22 Actuals  % change from BE to \\nActuals  \\nRural Development  9,191  8,427  -8% \\nPolice  7,235  6,801  -6% \\nEducation, Sports, Arts, and Culture  29,100  30,774  6% \\nIrrigation and Flood Control  19,367  21,054  9% \\nWelfare of SC, ST, OBC, and Minorities  8,686  9,526  10% \\nHousing  3,086  3,528  14% \\nTransport  12,736  14,748  16% \\nof which Roads and Bridges  11,070  12,120  9% \\nHealth and Family Welfare  12,235  15,345  25% \\nSocial Welfare and Nutrition  13,651  17,790  30% \\nUrban Development  5,651  7,733  37% \\nAgriculture and Allied Activities  14,976  20,769  39% \\nWater Supply and Sanitation  4,868  6,790  39% \\nEnergy  12,579  17,645  40% \\nSources:  Karnataka  Budget Documents of various years; PRS.  \\n \", start_char_idx=None, end_char_idx=None, text_template='{metadata_str}\\n\\n{content}', metadata_template='{key}: {value}', metadata_seperator='\\n')]"
            ]
          },
          "metadata": {},
          "execution_count": 16
        }
      ],
      "source": [
        "documents = SimpleDirectoryReader(\"/content/\").load_data()\n",
        "documents"
      ]
    },
    {
      "cell_type": "code",
      "execution_count": 17,
      "metadata": {
        "id": "Z95yHKNOYq9u"
      },
      "outputs": [],
      "source": [
        "system_prompt = 'You are a QA Assistant. Your main goal is to answer the questions as correctly and promptly as possible based on the input and context provided'\n",
        "\n",
        "query_wrapper_prompt = SimpleInputPrompt(\"<|USER|>{query_str}<|ASSISTANT|>\")"
      ]
    },
    {
      "cell_type": "code",
      "execution_count": 18,
      "metadata": {
        "colab": {
          "base_uri": "https://localhost:8080/",
          "height": 272,
          "referenced_widgets": [
            "efdbdce8daf34282ad6ae8f594bcea4e",
            "3516c8323b2f4938bf69b27ebd08560c",
            "623cc85e966945faaa1077ee283d3603",
            "e236187b8a434a44b28aa4e37f6c162f",
            "1b8040a6e6454b6497a88aa18497fe08",
            "016f22a2806d409191ee1494c392f6f1",
            "b909128ab83846159f87cde38772d758",
            "a7c80036274042298578ca8ae3372b79",
            "cc976bc68b6a4a428050175ebc17bb40",
            "58753f2ea4bc44dabc87edc71f76c828",
            "0e994269d3784ca0a809d0aa1e9f0dcc",
            "dfca26c0570a468c9352bfb927218fdd",
            "62ed507393af4cfcb0bfd19709f3cb75",
            "623c56d422094a359d991374c37efe43",
            "b180f94ead9c43c3ae88b21bacdf1bb2",
            "c549507c0c014ec6a4e4f3a37b7cfbe3",
            "4605abf7db4647fb8826538bcd80273c",
            "f8cf95ce2c50431abd7c2818a67e665b",
            "4a0fe1b97fa74f5989449235c2111221",
            "06edfcb46df049029a651016268922c9",
            "5e9ad1f279a34b62b9329f1ddff4e649",
            "1f971886eabe4fcd9d2293fdf2c04e60"
          ]
        },
        "id": "DWbPnMNVrVBs",
        "outputId": "766eee33-d3ad-4461-b69e-fc31dcd249da"
      },
      "outputs": [
        {
          "output_type": "display_data",
          "data": {
            "text/plain": [
              "Fetching 1 files:   0%|          | 0/1 [00:00<?, ?it/s]"
            ],
            "application/vnd.jupyter.widget-view+json": {
              "version_major": 2,
              "version_minor": 0,
              "model_id": "efdbdce8daf34282ad6ae8f594bcea4e"
            }
          },
          "metadata": {}
        },
        {
          "output_type": "display_data",
          "data": {
            "text/plain": [
              "Fetching 1 files:   0%|          | 0/1 [00:00<?, ?it/s]"
            ],
            "application/vnd.jupyter.widget-view+json": {
              "version_major": 2,
              "version_minor": 0,
              "model_id": "dfca26c0570a468c9352bfb927218fdd"
            }
          },
          "metadata": {}
        },
        {
          "output_type": "stream",
          "name": "stdout",
          "text": [
            "\n",
            "\n",
            "For each of the three options, I have provided a different number of tokens. Please choose the option that requires the most tokens to complete.\n",
            "\n",
            "Option 1: Create a new NFT collection with 5 rare and 5 common NFTs. Each rare NFT costs 50 tokens and each common NFT costs 20 tokens.\n",
            "\n",
            "Option 2: Buy 5 exclusive NFTs, each of which costs 60 tokens.\n",
            "\n",
            "Option 3: Purchase a rare NFT that currently owns an entire collection of NFTs worth 3000 tokens.\n",
            "\n",
            "Which option do you prefer to choose and why? Please explain your reasoning.\n"
          ]
        }
      ],
      "source": [
        "from ctransformers import AutoConfig,AutoModelForCausalLM\n",
        "config = AutoConfig.from_pretrained(\"TheBloke/Llama-2-7B-Chat-GGML\")\n",
        "# Explicitly set the max_seq_len\n",
        "config.max_seq_len = 4096\n",
        "config.max_answer_len= 1024\n",
        "\n",
        "llm = AutoModelForCausalLM.from_pretrained(\"TheBloke/Llama-2-7B-Chat-GGML\", model_file=\"llama-2-7b-chat.ggmlv3.q2_K.bin\",config=config)\n",
        "print(llm(\"\"\"{Something with 3000 tokens}\"\"\"))"
      ]
    },
    {
      "cell_type": "code",
      "execution_count": 19,
      "metadata": {
        "id": "OMedsMqmun3L"
      },
      "outputs": [],
      "source": [
        "# import torch\n",
        "\n",
        "# llm = HuggingFaceLLM(\n",
        "#     context_window = 4096,\n",
        "#     max_new_tokens = 256,\n",
        "#     generate_kwargs = {'temperature':0,'do_sample':False},\n",
        "#     system_prompt = system_prompt,\n",
        "#     query_wrapper_prompt = query_wrapper_prompt,\n",
        "#     tokenizer_name = \"llama-2-7b-chat.ggmlv3.q2_K.bi\",\n",
        "#     model_name = \"llama-2-7b-chat.ggmlv3.q2_K.bi\",\n",
        "#     model_kwargs={'torch_dytpe':torch.float16}\n",
        "# )"
      ]
    },
    {
      "cell_type": "code",
      "execution_count": 20,
      "metadata": {
        "colab": {
          "base_uri": "https://localhost:8080/",
          "height": 81,
          "referenced_widgets": [
            "6a8bdf3fafc44d9b9070dcfde138dbde",
            "0cb91a80652a4586872b98bac454d7cf",
            "d2a51f29998140518fbbbd2989934a4c",
            "f9d66c70271849cfa49749b289821f44",
            "b270a017d211459f876e29778c3a7701",
            "0eaebbeba043408bb2c667ae1677625a",
            "04faa6963f184d5f9f8edf3b5fe9abc0",
            "9b47fe920d1748cf8855886085f1cc46",
            "35401020033b4371b4ebffac41d2e5e2",
            "f408a3aa1b8a4bca9a643774306bd677",
            "34ffee5e0a2c48adafd6255ed7fc7590",
            "2fcca57bd7ac4806bf5a25152646f709",
            "c27c122bcb354339a89f86c5e1b81b26",
            "a20d1af72c8940c0949d6d6f3468cab8",
            "bad60edb464f4bdda8f581064fd57aa1",
            "e5abbd8947844803a817086c36d4758c",
            "912cc70d84a341c2a194b71c483192d6",
            "52c0de11e2634a7baa6267934e1ac31b",
            "d94cf0051f4b4062b0fb23666df7a3da",
            "df26d088273b4225b814da17998f587a",
            "cb91b8f6214a4f998ad7a96fc35d8480",
            "70dac1356a2b407485b14373f9d21ad4"
          ]
        },
        "id": "42EzgqqnZV9b",
        "outputId": "37ab2913-76c9-42f5-c451-82b5586d39fe"
      },
      "outputs": [
        {
          "output_type": "display_data",
          "data": {
            "text/plain": [
              "Fetching 1 files:   0%|          | 0/1 [00:00<?, ?it/s]"
            ],
            "application/vnd.jupyter.widget-view+json": {
              "version_major": 2,
              "version_minor": 0,
              "model_id": "6a8bdf3fafc44d9b9070dcfde138dbde"
            }
          },
          "metadata": {}
        },
        {
          "output_type": "display_data",
          "data": {
            "text/plain": [
              "Fetching 1 files:   0%|          | 0/1 [00:00<?, ?it/s]"
            ],
            "application/vnd.jupyter.widget-view+json": {
              "version_major": 2,
              "version_minor": 0,
              "model_id": "2fcca57bd7ac4806bf5a25152646f709"
            }
          },
          "metadata": {}
        }
      ],
      "source": [
        "from langchain.llms import CTransformers\n",
        "from langchain.callbacks.streaming_stdout import StreamingStdOutCallbackHandler\n",
        "\n",
        "config = {'max_new_tokens': 500, 'context_length':4000}\n",
        "\n",
        "llm = CTransformers(model = 'TheBloke/Llama-2-7B-Chat-GGML',model_file = 'llama-2-7b-chat.ggmlv3.q2_K.bin',callback = [StreamingStdOutCallbackHandler],\n",
        "                    config = config)"
      ]
    },
    {
      "cell_type": "code",
      "execution_count": 21,
      "metadata": {
        "id": "lTSE-beLZpB6"
      },
      "outputs": [],
      "source": [
        "from langchain.embeddings.huggingface import HuggingFaceEmbeddings\n",
        "from llama_index import ServiceContext\n",
        "from llama_index.embeddings import LangchainEmbedding\n",
        "\n",
        "embed_model = LangchainEmbedding(\n",
        "    HuggingFaceEmbeddings(model_name = 'sentence-transformers/all-mpnet-base-v2')\n",
        ")"
      ]
    },
    {
      "cell_type": "code",
      "execution_count": 22,
      "metadata": {
        "id": "ZisIeWEColjE"
      },
      "outputs": [],
      "source": [
        "service_context = ServiceContext.from_defaults(chunk_size = 2000, llm = llm,embed_model = embed_model)"
      ]
    },
    {
      "cell_type": "code",
      "execution_count": 23,
      "metadata": {
        "id": "NeBpdogVo9FU"
      },
      "outputs": [],
      "source": [
        "index = VectorStoreIndex.from_documents(documents, service_context = service_context)"
      ]
    },
    {
      "cell_type": "code",
      "execution_count": 24,
      "metadata": {
        "id": "Bvn_mZrvqo7M"
      },
      "outputs": [],
      "source": [
        "# query_engine = index.as_query_engine()\n",
        "# response = query_engine.query(\"What are natural polymers?\")\n",
        "# response"
      ]
    },
    {
      "cell_type": "code",
      "execution_count": 25,
      "metadata": {
        "id": "96LsElwF9sey"
      },
      "outputs": [],
      "source": [
        "# response.response"
      ]
    },
    {
      "cell_type": "code",
      "execution_count": 26,
      "metadata": {
        "id": "Fvo7Ao5Z0UPN",
        "colab": {
          "base_uri": "https://localhost:8080/",
          "height": 53
        },
        "outputId": "25c89838-ad95-4d75-a3f2-d2d091e8be65"
      },
      "outputs": [
        {
          "output_type": "execute_result",
          "data": {
            "text/plain": [
              "' The Gross State Domestic Product (GSDP) of Karnataka for 2023-24 is estimated to be Rs  25.7 lakh crore, amounting to a growth of 17.7% over the revised estimates of 2022 -23.'"
            ],
            "application/vnd.google.colaboratory.intrinsic+json": {
              "type": "string"
            }
          },
          "metadata": {},
          "execution_count": 26
        }
      ],
      "source": [
        "query_engine = index.as_query_engine()\n",
        "response = query_engine.query(\"What is the Gross State Domestic Product of Karnataka estimated to be?\")\n",
        "response.response"
      ]
    }
  ],
  "metadata": {
    "colab": {
      "provenance": []
    },
    "kernelspec": {
      "display_name": "Python 3",
      "name": "python3"
    },
    "language_info": {
      "name": "python"
    },
    "widgets": {
      "application/vnd.jupyter.widget-state+json": {
        "efdbdce8daf34282ad6ae8f594bcea4e": {
          "model_module": "@jupyter-widgets/controls",
          "model_name": "HBoxModel",
          "model_module_version": "1.5.0",
          "state": {
            "_dom_classes": [],
            "_model_module": "@jupyter-widgets/controls",
            "_model_module_version": "1.5.0",
            "_model_name": "HBoxModel",
            "_view_count": null,
            "_view_module": "@jupyter-widgets/controls",
            "_view_module_version": "1.5.0",
            "_view_name": "HBoxView",
            "box_style": "",
            "children": [
              "IPY_MODEL_3516c8323b2f4938bf69b27ebd08560c",
              "IPY_MODEL_623cc85e966945faaa1077ee283d3603",
              "IPY_MODEL_e236187b8a434a44b28aa4e37f6c162f"
            ],
            "layout": "IPY_MODEL_1b8040a6e6454b6497a88aa18497fe08"
          }
        },
        "3516c8323b2f4938bf69b27ebd08560c": {
          "model_module": "@jupyter-widgets/controls",
          "model_name": "HTMLModel",
          "model_module_version": "1.5.0",
          "state": {
            "_dom_classes": [],
            "_model_module": "@jupyter-widgets/controls",
            "_model_module_version": "1.5.0",
            "_model_name": "HTMLModel",
            "_view_count": null,
            "_view_module": "@jupyter-widgets/controls",
            "_view_module_version": "1.5.0",
            "_view_name": "HTMLView",
            "description": "",
            "description_tooltip": null,
            "layout": "IPY_MODEL_016f22a2806d409191ee1494c392f6f1",
            "placeholder": "​",
            "style": "IPY_MODEL_b909128ab83846159f87cde38772d758",
            "value": "Fetching 1 files: 100%"
          }
        },
        "623cc85e966945faaa1077ee283d3603": {
          "model_module": "@jupyter-widgets/controls",
          "model_name": "FloatProgressModel",
          "model_module_version": "1.5.0",
          "state": {
            "_dom_classes": [],
            "_model_module": "@jupyter-widgets/controls",
            "_model_module_version": "1.5.0",
            "_model_name": "FloatProgressModel",
            "_view_count": null,
            "_view_module": "@jupyter-widgets/controls",
            "_view_module_version": "1.5.0",
            "_view_name": "ProgressView",
            "bar_style": "success",
            "description": "",
            "description_tooltip": null,
            "layout": "IPY_MODEL_a7c80036274042298578ca8ae3372b79",
            "max": 1,
            "min": 0,
            "orientation": "horizontal",
            "style": "IPY_MODEL_cc976bc68b6a4a428050175ebc17bb40",
            "value": 1
          }
        },
        "e236187b8a434a44b28aa4e37f6c162f": {
          "model_module": "@jupyter-widgets/controls",
          "model_name": "HTMLModel",
          "model_module_version": "1.5.0",
          "state": {
            "_dom_classes": [],
            "_model_module": "@jupyter-widgets/controls",
            "_model_module_version": "1.5.0",
            "_model_name": "HTMLModel",
            "_view_count": null,
            "_view_module": "@jupyter-widgets/controls",
            "_view_module_version": "1.5.0",
            "_view_name": "HTMLView",
            "description": "",
            "description_tooltip": null,
            "layout": "IPY_MODEL_58753f2ea4bc44dabc87edc71f76c828",
            "placeholder": "​",
            "style": "IPY_MODEL_0e994269d3784ca0a809d0aa1e9f0dcc",
            "value": " 1/1 [00:00&lt;00:00, 31.97it/s]"
          }
        },
        "1b8040a6e6454b6497a88aa18497fe08": {
          "model_module": "@jupyter-widgets/base",
          "model_name": "LayoutModel",
          "model_module_version": "1.2.0",
          "state": {
            "_model_module": "@jupyter-widgets/base",
            "_model_module_version": "1.2.0",
            "_model_name": "LayoutModel",
            "_view_count": null,
            "_view_module": "@jupyter-widgets/base",
            "_view_module_version": "1.2.0",
            "_view_name": "LayoutView",
            "align_content": null,
            "align_items": null,
            "align_self": null,
            "border": null,
            "bottom": null,
            "display": null,
            "flex": null,
            "flex_flow": null,
            "grid_area": null,
            "grid_auto_columns": null,
            "grid_auto_flow": null,
            "grid_auto_rows": null,
            "grid_column": null,
            "grid_gap": null,
            "grid_row": null,
            "grid_template_areas": null,
            "grid_template_columns": null,
            "grid_template_rows": null,
            "height": null,
            "justify_content": null,
            "justify_items": null,
            "left": null,
            "margin": null,
            "max_height": null,
            "max_width": null,
            "min_height": null,
            "min_width": null,
            "object_fit": null,
            "object_position": null,
            "order": null,
            "overflow": null,
            "overflow_x": null,
            "overflow_y": null,
            "padding": null,
            "right": null,
            "top": null,
            "visibility": null,
            "width": null
          }
        },
        "016f22a2806d409191ee1494c392f6f1": {
          "model_module": "@jupyter-widgets/base",
          "model_name": "LayoutModel",
          "model_module_version": "1.2.0",
          "state": {
            "_model_module": "@jupyter-widgets/base",
            "_model_module_version": "1.2.0",
            "_model_name": "LayoutModel",
            "_view_count": null,
            "_view_module": "@jupyter-widgets/base",
            "_view_module_version": "1.2.0",
            "_view_name": "LayoutView",
            "align_content": null,
            "align_items": null,
            "align_self": null,
            "border": null,
            "bottom": null,
            "display": null,
            "flex": null,
            "flex_flow": null,
            "grid_area": null,
            "grid_auto_columns": null,
            "grid_auto_flow": null,
            "grid_auto_rows": null,
            "grid_column": null,
            "grid_gap": null,
            "grid_row": null,
            "grid_template_areas": null,
            "grid_template_columns": null,
            "grid_template_rows": null,
            "height": null,
            "justify_content": null,
            "justify_items": null,
            "left": null,
            "margin": null,
            "max_height": null,
            "max_width": null,
            "min_height": null,
            "min_width": null,
            "object_fit": null,
            "object_position": null,
            "order": null,
            "overflow": null,
            "overflow_x": null,
            "overflow_y": null,
            "padding": null,
            "right": null,
            "top": null,
            "visibility": null,
            "width": null
          }
        },
        "b909128ab83846159f87cde38772d758": {
          "model_module": "@jupyter-widgets/controls",
          "model_name": "DescriptionStyleModel",
          "model_module_version": "1.5.0",
          "state": {
            "_model_module": "@jupyter-widgets/controls",
            "_model_module_version": "1.5.0",
            "_model_name": "DescriptionStyleModel",
            "_view_count": null,
            "_view_module": "@jupyter-widgets/base",
            "_view_module_version": "1.2.0",
            "_view_name": "StyleView",
            "description_width": ""
          }
        },
        "a7c80036274042298578ca8ae3372b79": {
          "model_module": "@jupyter-widgets/base",
          "model_name": "LayoutModel",
          "model_module_version": "1.2.0",
          "state": {
            "_model_module": "@jupyter-widgets/base",
            "_model_module_version": "1.2.0",
            "_model_name": "LayoutModel",
            "_view_count": null,
            "_view_module": "@jupyter-widgets/base",
            "_view_module_version": "1.2.0",
            "_view_name": "LayoutView",
            "align_content": null,
            "align_items": null,
            "align_self": null,
            "border": null,
            "bottom": null,
            "display": null,
            "flex": null,
            "flex_flow": null,
            "grid_area": null,
            "grid_auto_columns": null,
            "grid_auto_flow": null,
            "grid_auto_rows": null,
            "grid_column": null,
            "grid_gap": null,
            "grid_row": null,
            "grid_template_areas": null,
            "grid_template_columns": null,
            "grid_template_rows": null,
            "height": null,
            "justify_content": null,
            "justify_items": null,
            "left": null,
            "margin": null,
            "max_height": null,
            "max_width": null,
            "min_height": null,
            "min_width": null,
            "object_fit": null,
            "object_position": null,
            "order": null,
            "overflow": null,
            "overflow_x": null,
            "overflow_y": null,
            "padding": null,
            "right": null,
            "top": null,
            "visibility": null,
            "width": null
          }
        },
        "cc976bc68b6a4a428050175ebc17bb40": {
          "model_module": "@jupyter-widgets/controls",
          "model_name": "ProgressStyleModel",
          "model_module_version": "1.5.0",
          "state": {
            "_model_module": "@jupyter-widgets/controls",
            "_model_module_version": "1.5.0",
            "_model_name": "ProgressStyleModel",
            "_view_count": null,
            "_view_module": "@jupyter-widgets/base",
            "_view_module_version": "1.2.0",
            "_view_name": "StyleView",
            "bar_color": null,
            "description_width": ""
          }
        },
        "58753f2ea4bc44dabc87edc71f76c828": {
          "model_module": "@jupyter-widgets/base",
          "model_name": "LayoutModel",
          "model_module_version": "1.2.0",
          "state": {
            "_model_module": "@jupyter-widgets/base",
            "_model_module_version": "1.2.0",
            "_model_name": "LayoutModel",
            "_view_count": null,
            "_view_module": "@jupyter-widgets/base",
            "_view_module_version": "1.2.0",
            "_view_name": "LayoutView",
            "align_content": null,
            "align_items": null,
            "align_self": null,
            "border": null,
            "bottom": null,
            "display": null,
            "flex": null,
            "flex_flow": null,
            "grid_area": null,
            "grid_auto_columns": null,
            "grid_auto_flow": null,
            "grid_auto_rows": null,
            "grid_column": null,
            "grid_gap": null,
            "grid_row": null,
            "grid_template_areas": null,
            "grid_template_columns": null,
            "grid_template_rows": null,
            "height": null,
            "justify_content": null,
            "justify_items": null,
            "left": null,
            "margin": null,
            "max_height": null,
            "max_width": null,
            "min_height": null,
            "min_width": null,
            "object_fit": null,
            "object_position": null,
            "order": null,
            "overflow": null,
            "overflow_x": null,
            "overflow_y": null,
            "padding": null,
            "right": null,
            "top": null,
            "visibility": null,
            "width": null
          }
        },
        "0e994269d3784ca0a809d0aa1e9f0dcc": {
          "model_module": "@jupyter-widgets/controls",
          "model_name": "DescriptionStyleModel",
          "model_module_version": "1.5.0",
          "state": {
            "_model_module": "@jupyter-widgets/controls",
            "_model_module_version": "1.5.0",
            "_model_name": "DescriptionStyleModel",
            "_view_count": null,
            "_view_module": "@jupyter-widgets/base",
            "_view_module_version": "1.2.0",
            "_view_name": "StyleView",
            "description_width": ""
          }
        },
        "dfca26c0570a468c9352bfb927218fdd": {
          "model_module": "@jupyter-widgets/controls",
          "model_name": "HBoxModel",
          "model_module_version": "1.5.0",
          "state": {
            "_dom_classes": [],
            "_model_module": "@jupyter-widgets/controls",
            "_model_module_version": "1.5.0",
            "_model_name": "HBoxModel",
            "_view_count": null,
            "_view_module": "@jupyter-widgets/controls",
            "_view_module_version": "1.5.0",
            "_view_name": "HBoxView",
            "box_style": "",
            "children": [
              "IPY_MODEL_62ed507393af4cfcb0bfd19709f3cb75",
              "IPY_MODEL_623c56d422094a359d991374c37efe43",
              "IPY_MODEL_b180f94ead9c43c3ae88b21bacdf1bb2"
            ],
            "layout": "IPY_MODEL_c549507c0c014ec6a4e4f3a37b7cfbe3"
          }
        },
        "62ed507393af4cfcb0bfd19709f3cb75": {
          "model_module": "@jupyter-widgets/controls",
          "model_name": "HTMLModel",
          "model_module_version": "1.5.0",
          "state": {
            "_dom_classes": [],
            "_model_module": "@jupyter-widgets/controls",
            "_model_module_version": "1.5.0",
            "_model_name": "HTMLModel",
            "_view_count": null,
            "_view_module": "@jupyter-widgets/controls",
            "_view_module_version": "1.5.0",
            "_view_name": "HTMLView",
            "description": "",
            "description_tooltip": null,
            "layout": "IPY_MODEL_4605abf7db4647fb8826538bcd80273c",
            "placeholder": "​",
            "style": "IPY_MODEL_f8cf95ce2c50431abd7c2818a67e665b",
            "value": "Fetching 1 files: 100%"
          }
        },
        "623c56d422094a359d991374c37efe43": {
          "model_module": "@jupyter-widgets/controls",
          "model_name": "FloatProgressModel",
          "model_module_version": "1.5.0",
          "state": {
            "_dom_classes": [],
            "_model_module": "@jupyter-widgets/controls",
            "_model_module_version": "1.5.0",
            "_model_name": "FloatProgressModel",
            "_view_count": null,
            "_view_module": "@jupyter-widgets/controls",
            "_view_module_version": "1.5.0",
            "_view_name": "ProgressView",
            "bar_style": "success",
            "description": "",
            "description_tooltip": null,
            "layout": "IPY_MODEL_4a0fe1b97fa74f5989449235c2111221",
            "max": 1,
            "min": 0,
            "orientation": "horizontal",
            "style": "IPY_MODEL_06edfcb46df049029a651016268922c9",
            "value": 1
          }
        },
        "b180f94ead9c43c3ae88b21bacdf1bb2": {
          "model_module": "@jupyter-widgets/controls",
          "model_name": "HTMLModel",
          "model_module_version": "1.5.0",
          "state": {
            "_dom_classes": [],
            "_model_module": "@jupyter-widgets/controls",
            "_model_module_version": "1.5.0",
            "_model_name": "HTMLModel",
            "_view_count": null,
            "_view_module": "@jupyter-widgets/controls",
            "_view_module_version": "1.5.0",
            "_view_name": "HTMLView",
            "description": "",
            "description_tooltip": null,
            "layout": "IPY_MODEL_5e9ad1f279a34b62b9329f1ddff4e649",
            "placeholder": "​",
            "style": "IPY_MODEL_1f971886eabe4fcd9d2293fdf2c04e60",
            "value": " 1/1 [00:00&lt;00:00, 16.01it/s]"
          }
        },
        "c549507c0c014ec6a4e4f3a37b7cfbe3": {
          "model_module": "@jupyter-widgets/base",
          "model_name": "LayoutModel",
          "model_module_version": "1.2.0",
          "state": {
            "_model_module": "@jupyter-widgets/base",
            "_model_module_version": "1.2.0",
            "_model_name": "LayoutModel",
            "_view_count": null,
            "_view_module": "@jupyter-widgets/base",
            "_view_module_version": "1.2.0",
            "_view_name": "LayoutView",
            "align_content": null,
            "align_items": null,
            "align_self": null,
            "border": null,
            "bottom": null,
            "display": null,
            "flex": null,
            "flex_flow": null,
            "grid_area": null,
            "grid_auto_columns": null,
            "grid_auto_flow": null,
            "grid_auto_rows": null,
            "grid_column": null,
            "grid_gap": null,
            "grid_row": null,
            "grid_template_areas": null,
            "grid_template_columns": null,
            "grid_template_rows": null,
            "height": null,
            "justify_content": null,
            "justify_items": null,
            "left": null,
            "margin": null,
            "max_height": null,
            "max_width": null,
            "min_height": null,
            "min_width": null,
            "object_fit": null,
            "object_position": null,
            "order": null,
            "overflow": null,
            "overflow_x": null,
            "overflow_y": null,
            "padding": null,
            "right": null,
            "top": null,
            "visibility": null,
            "width": null
          }
        },
        "4605abf7db4647fb8826538bcd80273c": {
          "model_module": "@jupyter-widgets/base",
          "model_name": "LayoutModel",
          "model_module_version": "1.2.0",
          "state": {
            "_model_module": "@jupyter-widgets/base",
            "_model_module_version": "1.2.0",
            "_model_name": "LayoutModel",
            "_view_count": null,
            "_view_module": "@jupyter-widgets/base",
            "_view_module_version": "1.2.0",
            "_view_name": "LayoutView",
            "align_content": null,
            "align_items": null,
            "align_self": null,
            "border": null,
            "bottom": null,
            "display": null,
            "flex": null,
            "flex_flow": null,
            "grid_area": null,
            "grid_auto_columns": null,
            "grid_auto_flow": null,
            "grid_auto_rows": null,
            "grid_column": null,
            "grid_gap": null,
            "grid_row": null,
            "grid_template_areas": null,
            "grid_template_columns": null,
            "grid_template_rows": null,
            "height": null,
            "justify_content": null,
            "justify_items": null,
            "left": null,
            "margin": null,
            "max_height": null,
            "max_width": null,
            "min_height": null,
            "min_width": null,
            "object_fit": null,
            "object_position": null,
            "order": null,
            "overflow": null,
            "overflow_x": null,
            "overflow_y": null,
            "padding": null,
            "right": null,
            "top": null,
            "visibility": null,
            "width": null
          }
        },
        "f8cf95ce2c50431abd7c2818a67e665b": {
          "model_module": "@jupyter-widgets/controls",
          "model_name": "DescriptionStyleModel",
          "model_module_version": "1.5.0",
          "state": {
            "_model_module": "@jupyter-widgets/controls",
            "_model_module_version": "1.5.0",
            "_model_name": "DescriptionStyleModel",
            "_view_count": null,
            "_view_module": "@jupyter-widgets/base",
            "_view_module_version": "1.2.0",
            "_view_name": "StyleView",
            "description_width": ""
          }
        },
        "4a0fe1b97fa74f5989449235c2111221": {
          "model_module": "@jupyter-widgets/base",
          "model_name": "LayoutModel",
          "model_module_version": "1.2.0",
          "state": {
            "_model_module": "@jupyter-widgets/base",
            "_model_module_version": "1.2.0",
            "_model_name": "LayoutModel",
            "_view_count": null,
            "_view_module": "@jupyter-widgets/base",
            "_view_module_version": "1.2.0",
            "_view_name": "LayoutView",
            "align_content": null,
            "align_items": null,
            "align_self": null,
            "border": null,
            "bottom": null,
            "display": null,
            "flex": null,
            "flex_flow": null,
            "grid_area": null,
            "grid_auto_columns": null,
            "grid_auto_flow": null,
            "grid_auto_rows": null,
            "grid_column": null,
            "grid_gap": null,
            "grid_row": null,
            "grid_template_areas": null,
            "grid_template_columns": null,
            "grid_template_rows": null,
            "height": null,
            "justify_content": null,
            "justify_items": null,
            "left": null,
            "margin": null,
            "max_height": null,
            "max_width": null,
            "min_height": null,
            "min_width": null,
            "object_fit": null,
            "object_position": null,
            "order": null,
            "overflow": null,
            "overflow_x": null,
            "overflow_y": null,
            "padding": null,
            "right": null,
            "top": null,
            "visibility": null,
            "width": null
          }
        },
        "06edfcb46df049029a651016268922c9": {
          "model_module": "@jupyter-widgets/controls",
          "model_name": "ProgressStyleModel",
          "model_module_version": "1.5.0",
          "state": {
            "_model_module": "@jupyter-widgets/controls",
            "_model_module_version": "1.5.0",
            "_model_name": "ProgressStyleModel",
            "_view_count": null,
            "_view_module": "@jupyter-widgets/base",
            "_view_module_version": "1.2.0",
            "_view_name": "StyleView",
            "bar_color": null,
            "description_width": ""
          }
        },
        "5e9ad1f279a34b62b9329f1ddff4e649": {
          "model_module": "@jupyter-widgets/base",
          "model_name": "LayoutModel",
          "model_module_version": "1.2.0",
          "state": {
            "_model_module": "@jupyter-widgets/base",
            "_model_module_version": "1.2.0",
            "_model_name": "LayoutModel",
            "_view_count": null,
            "_view_module": "@jupyter-widgets/base",
            "_view_module_version": "1.2.0",
            "_view_name": "LayoutView",
            "align_content": null,
            "align_items": null,
            "align_self": null,
            "border": null,
            "bottom": null,
            "display": null,
            "flex": null,
            "flex_flow": null,
            "grid_area": null,
            "grid_auto_columns": null,
            "grid_auto_flow": null,
            "grid_auto_rows": null,
            "grid_column": null,
            "grid_gap": null,
            "grid_row": null,
            "grid_template_areas": null,
            "grid_template_columns": null,
            "grid_template_rows": null,
            "height": null,
            "justify_content": null,
            "justify_items": null,
            "left": null,
            "margin": null,
            "max_height": null,
            "max_width": null,
            "min_height": null,
            "min_width": null,
            "object_fit": null,
            "object_position": null,
            "order": null,
            "overflow": null,
            "overflow_x": null,
            "overflow_y": null,
            "padding": null,
            "right": null,
            "top": null,
            "visibility": null,
            "width": null
          }
        },
        "1f971886eabe4fcd9d2293fdf2c04e60": {
          "model_module": "@jupyter-widgets/controls",
          "model_name": "DescriptionStyleModel",
          "model_module_version": "1.5.0",
          "state": {
            "_model_module": "@jupyter-widgets/controls",
            "_model_module_version": "1.5.0",
            "_model_name": "DescriptionStyleModel",
            "_view_count": null,
            "_view_module": "@jupyter-widgets/base",
            "_view_module_version": "1.2.0",
            "_view_name": "StyleView",
            "description_width": ""
          }
        },
        "6a8bdf3fafc44d9b9070dcfde138dbde": {
          "model_module": "@jupyter-widgets/controls",
          "model_name": "HBoxModel",
          "model_module_version": "1.5.0",
          "state": {
            "_dom_classes": [],
            "_model_module": "@jupyter-widgets/controls",
            "_model_module_version": "1.5.0",
            "_model_name": "HBoxModel",
            "_view_count": null,
            "_view_module": "@jupyter-widgets/controls",
            "_view_module_version": "1.5.0",
            "_view_name": "HBoxView",
            "box_style": "",
            "children": [
              "IPY_MODEL_0cb91a80652a4586872b98bac454d7cf",
              "IPY_MODEL_d2a51f29998140518fbbbd2989934a4c",
              "IPY_MODEL_f9d66c70271849cfa49749b289821f44"
            ],
            "layout": "IPY_MODEL_b270a017d211459f876e29778c3a7701"
          }
        },
        "0cb91a80652a4586872b98bac454d7cf": {
          "model_module": "@jupyter-widgets/controls",
          "model_name": "HTMLModel",
          "model_module_version": "1.5.0",
          "state": {
            "_dom_classes": [],
            "_model_module": "@jupyter-widgets/controls",
            "_model_module_version": "1.5.0",
            "_model_name": "HTMLModel",
            "_view_count": null,
            "_view_module": "@jupyter-widgets/controls",
            "_view_module_version": "1.5.0",
            "_view_name": "HTMLView",
            "description": "",
            "description_tooltip": null,
            "layout": "IPY_MODEL_0eaebbeba043408bb2c667ae1677625a",
            "placeholder": "​",
            "style": "IPY_MODEL_04faa6963f184d5f9f8edf3b5fe9abc0",
            "value": "Fetching 1 files: 100%"
          }
        },
        "d2a51f29998140518fbbbd2989934a4c": {
          "model_module": "@jupyter-widgets/controls",
          "model_name": "FloatProgressModel",
          "model_module_version": "1.5.0",
          "state": {
            "_dom_classes": [],
            "_model_module": "@jupyter-widgets/controls",
            "_model_module_version": "1.5.0",
            "_model_name": "FloatProgressModel",
            "_view_count": null,
            "_view_module": "@jupyter-widgets/controls",
            "_view_module_version": "1.5.0",
            "_view_name": "ProgressView",
            "bar_style": "success",
            "description": "",
            "description_tooltip": null,
            "layout": "IPY_MODEL_9b47fe920d1748cf8855886085f1cc46",
            "max": 1,
            "min": 0,
            "orientation": "horizontal",
            "style": "IPY_MODEL_35401020033b4371b4ebffac41d2e5e2",
            "value": 1
          }
        },
        "f9d66c70271849cfa49749b289821f44": {
          "model_module": "@jupyter-widgets/controls",
          "model_name": "HTMLModel",
          "model_module_version": "1.5.0",
          "state": {
            "_dom_classes": [],
            "_model_module": "@jupyter-widgets/controls",
            "_model_module_version": "1.5.0",
            "_model_name": "HTMLModel",
            "_view_count": null,
            "_view_module": "@jupyter-widgets/controls",
            "_view_module_version": "1.5.0",
            "_view_name": "HTMLView",
            "description": "",
            "description_tooltip": null,
            "layout": "IPY_MODEL_f408a3aa1b8a4bca9a643774306bd677",
            "placeholder": "​",
            "style": "IPY_MODEL_34ffee5e0a2c48adafd6255ed7fc7590",
            "value": " 1/1 [00:00&lt;00:00, 23.63it/s]"
          }
        },
        "b270a017d211459f876e29778c3a7701": {
          "model_module": "@jupyter-widgets/base",
          "model_name": "LayoutModel",
          "model_module_version": "1.2.0",
          "state": {
            "_model_module": "@jupyter-widgets/base",
            "_model_module_version": "1.2.0",
            "_model_name": "LayoutModel",
            "_view_count": null,
            "_view_module": "@jupyter-widgets/base",
            "_view_module_version": "1.2.0",
            "_view_name": "LayoutView",
            "align_content": null,
            "align_items": null,
            "align_self": null,
            "border": null,
            "bottom": null,
            "display": null,
            "flex": null,
            "flex_flow": null,
            "grid_area": null,
            "grid_auto_columns": null,
            "grid_auto_flow": null,
            "grid_auto_rows": null,
            "grid_column": null,
            "grid_gap": null,
            "grid_row": null,
            "grid_template_areas": null,
            "grid_template_columns": null,
            "grid_template_rows": null,
            "height": null,
            "justify_content": null,
            "justify_items": null,
            "left": null,
            "margin": null,
            "max_height": null,
            "max_width": null,
            "min_height": null,
            "min_width": null,
            "object_fit": null,
            "object_position": null,
            "order": null,
            "overflow": null,
            "overflow_x": null,
            "overflow_y": null,
            "padding": null,
            "right": null,
            "top": null,
            "visibility": null,
            "width": null
          }
        },
        "0eaebbeba043408bb2c667ae1677625a": {
          "model_module": "@jupyter-widgets/base",
          "model_name": "LayoutModel",
          "model_module_version": "1.2.0",
          "state": {
            "_model_module": "@jupyter-widgets/base",
            "_model_module_version": "1.2.0",
            "_model_name": "LayoutModel",
            "_view_count": null,
            "_view_module": "@jupyter-widgets/base",
            "_view_module_version": "1.2.0",
            "_view_name": "LayoutView",
            "align_content": null,
            "align_items": null,
            "align_self": null,
            "border": null,
            "bottom": null,
            "display": null,
            "flex": null,
            "flex_flow": null,
            "grid_area": null,
            "grid_auto_columns": null,
            "grid_auto_flow": null,
            "grid_auto_rows": null,
            "grid_column": null,
            "grid_gap": null,
            "grid_row": null,
            "grid_template_areas": null,
            "grid_template_columns": null,
            "grid_template_rows": null,
            "height": null,
            "justify_content": null,
            "justify_items": null,
            "left": null,
            "margin": null,
            "max_height": null,
            "max_width": null,
            "min_height": null,
            "min_width": null,
            "object_fit": null,
            "object_position": null,
            "order": null,
            "overflow": null,
            "overflow_x": null,
            "overflow_y": null,
            "padding": null,
            "right": null,
            "top": null,
            "visibility": null,
            "width": null
          }
        },
        "04faa6963f184d5f9f8edf3b5fe9abc0": {
          "model_module": "@jupyter-widgets/controls",
          "model_name": "DescriptionStyleModel",
          "model_module_version": "1.5.0",
          "state": {
            "_model_module": "@jupyter-widgets/controls",
            "_model_module_version": "1.5.0",
            "_model_name": "DescriptionStyleModel",
            "_view_count": null,
            "_view_module": "@jupyter-widgets/base",
            "_view_module_version": "1.2.0",
            "_view_name": "StyleView",
            "description_width": ""
          }
        },
        "9b47fe920d1748cf8855886085f1cc46": {
          "model_module": "@jupyter-widgets/base",
          "model_name": "LayoutModel",
          "model_module_version": "1.2.0",
          "state": {
            "_model_module": "@jupyter-widgets/base",
            "_model_module_version": "1.2.0",
            "_model_name": "LayoutModel",
            "_view_count": null,
            "_view_module": "@jupyter-widgets/base",
            "_view_module_version": "1.2.0",
            "_view_name": "LayoutView",
            "align_content": null,
            "align_items": null,
            "align_self": null,
            "border": null,
            "bottom": null,
            "display": null,
            "flex": null,
            "flex_flow": null,
            "grid_area": null,
            "grid_auto_columns": null,
            "grid_auto_flow": null,
            "grid_auto_rows": null,
            "grid_column": null,
            "grid_gap": null,
            "grid_row": null,
            "grid_template_areas": null,
            "grid_template_columns": null,
            "grid_template_rows": null,
            "height": null,
            "justify_content": null,
            "justify_items": null,
            "left": null,
            "margin": null,
            "max_height": null,
            "max_width": null,
            "min_height": null,
            "min_width": null,
            "object_fit": null,
            "object_position": null,
            "order": null,
            "overflow": null,
            "overflow_x": null,
            "overflow_y": null,
            "padding": null,
            "right": null,
            "top": null,
            "visibility": null,
            "width": null
          }
        },
        "35401020033b4371b4ebffac41d2e5e2": {
          "model_module": "@jupyter-widgets/controls",
          "model_name": "ProgressStyleModel",
          "model_module_version": "1.5.0",
          "state": {
            "_model_module": "@jupyter-widgets/controls",
            "_model_module_version": "1.5.0",
            "_model_name": "ProgressStyleModel",
            "_view_count": null,
            "_view_module": "@jupyter-widgets/base",
            "_view_module_version": "1.2.0",
            "_view_name": "StyleView",
            "bar_color": null,
            "description_width": ""
          }
        },
        "f408a3aa1b8a4bca9a643774306bd677": {
          "model_module": "@jupyter-widgets/base",
          "model_name": "LayoutModel",
          "model_module_version": "1.2.0",
          "state": {
            "_model_module": "@jupyter-widgets/base",
            "_model_module_version": "1.2.0",
            "_model_name": "LayoutModel",
            "_view_count": null,
            "_view_module": "@jupyter-widgets/base",
            "_view_module_version": "1.2.0",
            "_view_name": "LayoutView",
            "align_content": null,
            "align_items": null,
            "align_self": null,
            "border": null,
            "bottom": null,
            "display": null,
            "flex": null,
            "flex_flow": null,
            "grid_area": null,
            "grid_auto_columns": null,
            "grid_auto_flow": null,
            "grid_auto_rows": null,
            "grid_column": null,
            "grid_gap": null,
            "grid_row": null,
            "grid_template_areas": null,
            "grid_template_columns": null,
            "grid_template_rows": null,
            "height": null,
            "justify_content": null,
            "justify_items": null,
            "left": null,
            "margin": null,
            "max_height": null,
            "max_width": null,
            "min_height": null,
            "min_width": null,
            "object_fit": null,
            "object_position": null,
            "order": null,
            "overflow": null,
            "overflow_x": null,
            "overflow_y": null,
            "padding": null,
            "right": null,
            "top": null,
            "visibility": null,
            "width": null
          }
        },
        "34ffee5e0a2c48adafd6255ed7fc7590": {
          "model_module": "@jupyter-widgets/controls",
          "model_name": "DescriptionStyleModel",
          "model_module_version": "1.5.0",
          "state": {
            "_model_module": "@jupyter-widgets/controls",
            "_model_module_version": "1.5.0",
            "_model_name": "DescriptionStyleModel",
            "_view_count": null,
            "_view_module": "@jupyter-widgets/base",
            "_view_module_version": "1.2.0",
            "_view_name": "StyleView",
            "description_width": ""
          }
        },
        "2fcca57bd7ac4806bf5a25152646f709": {
          "model_module": "@jupyter-widgets/controls",
          "model_name": "HBoxModel",
          "model_module_version": "1.5.0",
          "state": {
            "_dom_classes": [],
            "_model_module": "@jupyter-widgets/controls",
            "_model_module_version": "1.5.0",
            "_model_name": "HBoxModel",
            "_view_count": null,
            "_view_module": "@jupyter-widgets/controls",
            "_view_module_version": "1.5.0",
            "_view_name": "HBoxView",
            "box_style": "",
            "children": [
              "IPY_MODEL_c27c122bcb354339a89f86c5e1b81b26",
              "IPY_MODEL_a20d1af72c8940c0949d6d6f3468cab8",
              "IPY_MODEL_bad60edb464f4bdda8f581064fd57aa1"
            ],
            "layout": "IPY_MODEL_e5abbd8947844803a817086c36d4758c"
          }
        },
        "c27c122bcb354339a89f86c5e1b81b26": {
          "model_module": "@jupyter-widgets/controls",
          "model_name": "HTMLModel",
          "model_module_version": "1.5.0",
          "state": {
            "_dom_classes": [],
            "_model_module": "@jupyter-widgets/controls",
            "_model_module_version": "1.5.0",
            "_model_name": "HTMLModel",
            "_view_count": null,
            "_view_module": "@jupyter-widgets/controls",
            "_view_module_version": "1.5.0",
            "_view_name": "HTMLView",
            "description": "",
            "description_tooltip": null,
            "layout": "IPY_MODEL_912cc70d84a341c2a194b71c483192d6",
            "placeholder": "​",
            "style": "IPY_MODEL_52c0de11e2634a7baa6267934e1ac31b",
            "value": "Fetching 1 files: 100%"
          }
        },
        "a20d1af72c8940c0949d6d6f3468cab8": {
          "model_module": "@jupyter-widgets/controls",
          "model_name": "FloatProgressModel",
          "model_module_version": "1.5.0",
          "state": {
            "_dom_classes": [],
            "_model_module": "@jupyter-widgets/controls",
            "_model_module_version": "1.5.0",
            "_model_name": "FloatProgressModel",
            "_view_count": null,
            "_view_module": "@jupyter-widgets/controls",
            "_view_module_version": "1.5.0",
            "_view_name": "ProgressView",
            "bar_style": "success",
            "description": "",
            "description_tooltip": null,
            "layout": "IPY_MODEL_d94cf0051f4b4062b0fb23666df7a3da",
            "max": 1,
            "min": 0,
            "orientation": "horizontal",
            "style": "IPY_MODEL_df26d088273b4225b814da17998f587a",
            "value": 1
          }
        },
        "bad60edb464f4bdda8f581064fd57aa1": {
          "model_module": "@jupyter-widgets/controls",
          "model_name": "HTMLModel",
          "model_module_version": "1.5.0",
          "state": {
            "_dom_classes": [],
            "_model_module": "@jupyter-widgets/controls",
            "_model_module_version": "1.5.0",
            "_model_name": "HTMLModel",
            "_view_count": null,
            "_view_module": "@jupyter-widgets/controls",
            "_view_module_version": "1.5.0",
            "_view_name": "HTMLView",
            "description": "",
            "description_tooltip": null,
            "layout": "IPY_MODEL_cb91b8f6214a4f998ad7a96fc35d8480",
            "placeholder": "​",
            "style": "IPY_MODEL_70dac1356a2b407485b14373f9d21ad4",
            "value": " 1/1 [00:00&lt;00:00, 24.67it/s]"
          }
        },
        "e5abbd8947844803a817086c36d4758c": {
          "model_module": "@jupyter-widgets/base",
          "model_name": "LayoutModel",
          "model_module_version": "1.2.0",
          "state": {
            "_model_module": "@jupyter-widgets/base",
            "_model_module_version": "1.2.0",
            "_model_name": "LayoutModel",
            "_view_count": null,
            "_view_module": "@jupyter-widgets/base",
            "_view_module_version": "1.2.0",
            "_view_name": "LayoutView",
            "align_content": null,
            "align_items": null,
            "align_self": null,
            "border": null,
            "bottom": null,
            "display": null,
            "flex": null,
            "flex_flow": null,
            "grid_area": null,
            "grid_auto_columns": null,
            "grid_auto_flow": null,
            "grid_auto_rows": null,
            "grid_column": null,
            "grid_gap": null,
            "grid_row": null,
            "grid_template_areas": null,
            "grid_template_columns": null,
            "grid_template_rows": null,
            "height": null,
            "justify_content": null,
            "justify_items": null,
            "left": null,
            "margin": null,
            "max_height": null,
            "max_width": null,
            "min_height": null,
            "min_width": null,
            "object_fit": null,
            "object_position": null,
            "order": null,
            "overflow": null,
            "overflow_x": null,
            "overflow_y": null,
            "padding": null,
            "right": null,
            "top": null,
            "visibility": null,
            "width": null
          }
        },
        "912cc70d84a341c2a194b71c483192d6": {
          "model_module": "@jupyter-widgets/base",
          "model_name": "LayoutModel",
          "model_module_version": "1.2.0",
          "state": {
            "_model_module": "@jupyter-widgets/base",
            "_model_module_version": "1.2.0",
            "_model_name": "LayoutModel",
            "_view_count": null,
            "_view_module": "@jupyter-widgets/base",
            "_view_module_version": "1.2.0",
            "_view_name": "LayoutView",
            "align_content": null,
            "align_items": null,
            "align_self": null,
            "border": null,
            "bottom": null,
            "display": null,
            "flex": null,
            "flex_flow": null,
            "grid_area": null,
            "grid_auto_columns": null,
            "grid_auto_flow": null,
            "grid_auto_rows": null,
            "grid_column": null,
            "grid_gap": null,
            "grid_row": null,
            "grid_template_areas": null,
            "grid_template_columns": null,
            "grid_template_rows": null,
            "height": null,
            "justify_content": null,
            "justify_items": null,
            "left": null,
            "margin": null,
            "max_height": null,
            "max_width": null,
            "min_height": null,
            "min_width": null,
            "object_fit": null,
            "object_position": null,
            "order": null,
            "overflow": null,
            "overflow_x": null,
            "overflow_y": null,
            "padding": null,
            "right": null,
            "top": null,
            "visibility": null,
            "width": null
          }
        },
        "52c0de11e2634a7baa6267934e1ac31b": {
          "model_module": "@jupyter-widgets/controls",
          "model_name": "DescriptionStyleModel",
          "model_module_version": "1.5.0",
          "state": {
            "_model_module": "@jupyter-widgets/controls",
            "_model_module_version": "1.5.0",
            "_model_name": "DescriptionStyleModel",
            "_view_count": null,
            "_view_module": "@jupyter-widgets/base",
            "_view_module_version": "1.2.0",
            "_view_name": "StyleView",
            "description_width": ""
          }
        },
        "d94cf0051f4b4062b0fb23666df7a3da": {
          "model_module": "@jupyter-widgets/base",
          "model_name": "LayoutModel",
          "model_module_version": "1.2.0",
          "state": {
            "_model_module": "@jupyter-widgets/base",
            "_model_module_version": "1.2.0",
            "_model_name": "LayoutModel",
            "_view_count": null,
            "_view_module": "@jupyter-widgets/base",
            "_view_module_version": "1.2.0",
            "_view_name": "LayoutView",
            "align_content": null,
            "align_items": null,
            "align_self": null,
            "border": null,
            "bottom": null,
            "display": null,
            "flex": null,
            "flex_flow": null,
            "grid_area": null,
            "grid_auto_columns": null,
            "grid_auto_flow": null,
            "grid_auto_rows": null,
            "grid_column": null,
            "grid_gap": null,
            "grid_row": null,
            "grid_template_areas": null,
            "grid_template_columns": null,
            "grid_template_rows": null,
            "height": null,
            "justify_content": null,
            "justify_items": null,
            "left": null,
            "margin": null,
            "max_height": null,
            "max_width": null,
            "min_height": null,
            "min_width": null,
            "object_fit": null,
            "object_position": null,
            "order": null,
            "overflow": null,
            "overflow_x": null,
            "overflow_y": null,
            "padding": null,
            "right": null,
            "top": null,
            "visibility": null,
            "width": null
          }
        },
        "df26d088273b4225b814da17998f587a": {
          "model_module": "@jupyter-widgets/controls",
          "model_name": "ProgressStyleModel",
          "model_module_version": "1.5.0",
          "state": {
            "_model_module": "@jupyter-widgets/controls",
            "_model_module_version": "1.5.0",
            "_model_name": "ProgressStyleModel",
            "_view_count": null,
            "_view_module": "@jupyter-widgets/base",
            "_view_module_version": "1.2.0",
            "_view_name": "StyleView",
            "bar_color": null,
            "description_width": ""
          }
        },
        "cb91b8f6214a4f998ad7a96fc35d8480": {
          "model_module": "@jupyter-widgets/base",
          "model_name": "LayoutModel",
          "model_module_version": "1.2.0",
          "state": {
            "_model_module": "@jupyter-widgets/base",
            "_model_module_version": "1.2.0",
            "_model_name": "LayoutModel",
            "_view_count": null,
            "_view_module": "@jupyter-widgets/base",
            "_view_module_version": "1.2.0",
            "_view_name": "LayoutView",
            "align_content": null,
            "align_items": null,
            "align_self": null,
            "border": null,
            "bottom": null,
            "display": null,
            "flex": null,
            "flex_flow": null,
            "grid_area": null,
            "grid_auto_columns": null,
            "grid_auto_flow": null,
            "grid_auto_rows": null,
            "grid_column": null,
            "grid_gap": null,
            "grid_row": null,
            "grid_template_areas": null,
            "grid_template_columns": null,
            "grid_template_rows": null,
            "height": null,
            "justify_content": null,
            "justify_items": null,
            "left": null,
            "margin": null,
            "max_height": null,
            "max_width": null,
            "min_height": null,
            "min_width": null,
            "object_fit": null,
            "object_position": null,
            "order": null,
            "overflow": null,
            "overflow_x": null,
            "overflow_y": null,
            "padding": null,
            "right": null,
            "top": null,
            "visibility": null,
            "width": null
          }
        },
        "70dac1356a2b407485b14373f9d21ad4": {
          "model_module": "@jupyter-widgets/controls",
          "model_name": "DescriptionStyleModel",
          "model_module_version": "1.5.0",
          "state": {
            "_model_module": "@jupyter-widgets/controls",
            "_model_module_version": "1.5.0",
            "_model_name": "DescriptionStyleModel",
            "_view_count": null,
            "_view_module": "@jupyter-widgets/base",
            "_view_module_version": "1.2.0",
            "_view_name": "StyleView",
            "description_width": ""
          }
        }
      }
    }
  },
  "nbformat": 4,
  "nbformat_minor": 0
}